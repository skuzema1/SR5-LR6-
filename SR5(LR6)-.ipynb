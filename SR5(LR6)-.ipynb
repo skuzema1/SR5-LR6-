{
 "cells": [
  {
   "cell_type": "markdown",
   "id": "6b8b1c8d",
   "metadata": {},
   "source": [
    "`Дисциплина: Методы и технологии машинного обучения`   \n",
    "`Уровень подготовки: бакалавриат`   \n",
    "`Направление подготовки: 01.03.02 Прикладная математика и информатика`   \n",
    "`Семестр: осень 2022/2023`   "
   ]
  },
  {
   "cell_type": "markdown",
   "id": "1fc5c8ab",
   "metadata": {},
   "source": [
    "# Лабораторная работа №6: Машины опорных векторов  \n",
    "\n",
    "В практических примерах ниже показано:   \n",
    "\n",
    "* как классифицировать данные с помощью модели SVM\n",
    "* как использовать конвейеры для подгонки модели и применения её к новым данным \n",
    "\n",
    "Точность всех моделей оценивается методом перекрёстной проверки по 5 блокам.  \n",
    "\n",
    "*Модели*: SVM  \n",
    "*Данные*:`wdbc.data (Breast Cancer Wisconsin)`. Источник: [сайт Калифорнийского университета в Ирвине]"
   ]
  },
  {
   "cell_type": "markdown",
   "id": "61b9ab5d",
   "metadata": {},
   "source": [
    "# Указания к выполнению\n",
    "\n",
    "\n",
    "## Загружаем пакеты"
   ]
  },
  {
   "cell_type": "code",
   "execution_count": 1,
   "id": "c8fa189c",
   "metadata": {},
   "outputs": [],
   "source": [
    "# загрузка пакетов: инструменты -------------------------------------------- \n",
    "#  работа с массивами\n",
    "\n",
    "import numpy as np \n",
    "#  фреймы данных\n",
    "import pandas as pd \n",
    "#  графики \n",
    "import matplotlib as mpl \n",
    "#  стили и шаблоны графиков на основе matplotlib \n",
    "import seaborn as sns \n",
    "# перекодировка символьных показателей \n",
    "from sklearn.preprocessing import LabelEncoder\n",
    "#  для таймера \n",
    "import time \n",
    " \n",
    "# загрузка пакетов: модели ------------------------------------------------- \n",
    "#  SVM \n",
    "from sklearn.svm import SVC \n",
    "# логистическая рагрессия \n",
    "from sklearn.linear_model import LogisticRegression \n",
    "# стандартизация\n",
    "from sklearn.preprocessing import StandardScaler \n",
    "# метод главных компонент \n",
    "from sklearn.decomposition import PCA \n",
    "# конвейеры\n",
    "from sklearn.pipeline import make_pipeline \n",
    "# перекрёстная проверка и метод проверочной выборки \n",
    "from sklearn.model_selection import cross_val_score, train_test_split \n",
    "# для перекрёстной проверки и сеточного поиска \n",
    "from sklearn.model_selection import KFold, GridSearchCV \n",
    "#  сводка по точности классификации \n",
    "from sklearn.metrics import classification_report "
   ]
  },
  {
   "cell_type": "code",
   "execution_count": 2,
   "id": "43a4a48e",
   "metadata": {},
   "outputs": [
    {
     "data": {
      "text/html": [
       "<svg  width=\"440\" height=\"55\"><rect x=\"0\" y=\"0\" width=\"55\" height=\"55\" style=\"fill:#66c2a5;stroke-width:2;stroke:rgb(255,255,255)\"/><rect x=\"55\" y=\"0\" width=\"55\" height=\"55\" style=\"fill:#fc8d62;stroke-width:2;stroke:rgb(255,255,255)\"/><rect x=\"110\" y=\"0\" width=\"55\" height=\"55\" style=\"fill:#8da0cb;stroke-width:2;stroke:rgb(255,255,255)\"/><rect x=\"165\" y=\"0\" width=\"55\" height=\"55\" style=\"fill:#e78ac3;stroke-width:2;stroke:rgb(255,255,255)\"/><rect x=\"220\" y=\"0\" width=\"55\" height=\"55\" style=\"fill:#a6d854;stroke-width:2;stroke:rgb(255,255,255)\"/><rect x=\"275\" y=\"0\" width=\"55\" height=\"55\" style=\"fill:#ffd92f;stroke-width:2;stroke:rgb(255,255,255)\"/><rect x=\"330\" y=\"0\" width=\"55\" height=\"55\" style=\"fill:#e5c494;stroke-width:2;stroke:rgb(255,255,255)\"/><rect x=\"385\" y=\"0\" width=\"55\" height=\"55\" style=\"fill:#b3b3b3;stroke-width:2;stroke:rgb(255,255,255)\"/></svg>"
      ],
      "text/plain": [
       "[(0.4, 0.7607843137254902, 0.6470588235294118),\n",
       " (0.9882352941176471, 0.5529411764705883, 0.3843137254901961),\n",
       " (0.5529411764705883, 0.6274509803921569, 0.796078431372549),\n",
       " (0.9058823529411765, 0.5411764705882353, 0.7647058823529411),\n",
       " (0.6509803921568628, 0.8470588235294118, 0.32941176470588235),\n",
       " (1.0, 0.8509803921568627, 0.1843137254901961),\n",
       " (0.8980392156862745, 0.7686274509803922, 0.5803921568627451),\n",
       " (0.7019607843137254, 0.7019607843137254, 0.7019607843137254)]"
      ]
     },
     "execution_count": 2,
     "metadata": {},
     "output_type": "execute_result"
    }
   ],
   "source": [
    "# константы\n",
    "#  ядро для генератора случайных чисел\n",
    "my_seed = 13\n",
    "#  создаём псевдоним для короткого обращения к графикам\n",
    "plt = mpl.pyplot\n",
    "# настройка стиля и отображения графиков\n",
    "#  примеры стилей и шаблонов графиков: \n",
    "#  http://tonysyu.github.io/raw_content/matplotlib-style-gallery/gallery.html\n",
    "mpl.style.use('seaborn-whitegrid')\n",
    "sns.set_palette(\"Set2\")\n",
    "# раскомментируйте следующую строку, чтобы посмотреть палитру\n",
    "sns.color_palette(\"Set2\")"
   ]
  },
  {
   "cell_type": "markdown",
   "id": "87618f1b",
   "metadata": {},
   "source": [
    "## Загружаем данные\n",
    "\n",
    "Набор данных можно загрузить напрямую по ссылке: <https://raw.githubusercontent.com/ania607/ML/main/data/default_of_credit_card_clients.csv>.Справочник к данным доступен по адресу: <https://github.com/aksyuk/MTML/blob/main/Labs/data/CodeBook_default_of_credit_card_clients.md>. \n",
    "Загружаем данные во фрейм и выясняем их размерность. В таблице много строк, поэтому для экономии времени загрузку сделаем в два шага: сначала скачаем таблицу и сохраним в папку `'./data'`, затем прочитаем её во фрейм. Перед скачиванием проверим, нет ли уже такого файла в папке с данными.  \n",
    "\n",
    "### Список столбцов файла:\n",
    "* LIMIT_BAL – размер выданного кредита (новых тайваньских долларов);\n",
    "* SEX – пол: 1 = мужской, 2 = женский;\n",
    "* EDUCATION – образование: 1 = аспирантура, 2 = университет, 3 = старшая школа, 4 = другое;\n",
    "* MARRIAGE – семейное положение: 1 = женат/замужем, 2 = одинок, 3 = другое;\n",
    "* AGE – возраст, лет;\n",
    "* PAY_0, PAY_2, ..., PAY_6 – статус последних ежемесячных платежей, с сентября (PAY_0) по апрель (PAY_6) 2005 года: -1 = платёж внесён вовремя, 1 = платёж внесён с опозданием на 1 месяц; 2 = с опозданием на 2 месяца, и т.д., 9 = с опозданием на 9 месяцев и более;\n",
    "* BILL_AMT1, ..., BILL_AMT6 – размер последних ежемесячных платежей (новых тайваньских долларов), с сентября (BILL_AMT1) по апрель (BILL_AMT6) 2005 года;\n",
    "* PAY_AMT1, ..., PAY_AMT6 – размер ежемесячных платежей в предыдущем месяце (новых тайваньских долларов), с сентября (PAY_AMT1 за август) по апрель (PAY_AMT6 за март) 2005 года;\n",
    "* Y – целевая переменная: дефолт в следующем месяце (1 – да, 0 – нет)."
   ]
  },
  {
   "cell_type": "code",
   "execution_count": 3,
   "id": "a7e42f2c",
   "metadata": {},
   "outputs": [
    {
     "name": "stdout",
     "output_type": "stream",
     "text": [
      "Число строк и столбцов в наборе данных:\n",
      " (30000, 24)\n"
     ]
    }
   ],
   "source": [
    "# загружаем таблицу и превращаем её во фрейм\n",
    "fileURL = 'https://raw.githubusercontent.com/ania607/ML/main/data/default_of_credit_card_clients.csv'\n",
    "DF_raw = pd.read_csv(fileURL)\n",
    "\n",
    "# выясняем размерность фрейма\n",
    "print('Число строк и столбцов в наборе данных:\\n', DF_raw.shape)"
   ]
  },
  {
   "cell_type": "code",
   "execution_count": 4,
   "id": "07670649",
   "metadata": {},
   "outputs": [
    {
     "data": {
      "text/html": [
       "<div>\n",
       "<style scoped>\n",
       "    .dataframe tbody tr th:only-of-type {\n",
       "        vertical-align: middle;\n",
       "    }\n",
       "\n",
       "    .dataframe tbody tr th {\n",
       "        vertical-align: top;\n",
       "    }\n",
       "\n",
       "    .dataframe thead th {\n",
       "        text-align: right;\n",
       "    }\n",
       "</style>\n",
       "<table border=\"1\" class=\"dataframe\">\n",
       "  <thead>\n",
       "    <tr style=\"text-align: right;\">\n",
       "      <th></th>\n",
       "      <th>LIMIT_BAL</th>\n",
       "      <th>SEX</th>\n",
       "      <th>EDUCATION</th>\n",
       "      <th>MARRIAGE</th>\n",
       "      <th>AGE</th>\n",
       "      <th>PAY_0</th>\n",
       "      <th>PAY_2</th>\n",
       "      <th>PAY_3</th>\n",
       "      <th>PAY_4</th>\n",
       "      <th>PAY_5</th>\n",
       "      <th>...</th>\n",
       "      <th>BILL_AMT4</th>\n",
       "      <th>BILL_AMT5</th>\n",
       "      <th>BILL_AMT6</th>\n",
       "      <th>PAY_AMT1</th>\n",
       "      <th>PAY_AMT2</th>\n",
       "      <th>PAY_AMT3</th>\n",
       "      <th>PAY_AMT4</th>\n",
       "      <th>PAY_AMT5</th>\n",
       "      <th>PAY_AMT6</th>\n",
       "      <th>Y</th>\n",
       "    </tr>\n",
       "  </thead>\n",
       "  <tbody>\n",
       "    <tr>\n",
       "      <th>0</th>\n",
       "      <td>20000</td>\n",
       "      <td>2</td>\n",
       "      <td>2</td>\n",
       "      <td>1</td>\n",
       "      <td>24</td>\n",
       "      <td>2</td>\n",
       "      <td>2</td>\n",
       "      <td>-1</td>\n",
       "      <td>-1</td>\n",
       "      <td>-2</td>\n",
       "      <td>...</td>\n",
       "      <td>0</td>\n",
       "      <td>0</td>\n",
       "      <td>0</td>\n",
       "      <td>0</td>\n",
       "      <td>689</td>\n",
       "      <td>0</td>\n",
       "      <td>0</td>\n",
       "      <td>0</td>\n",
       "      <td>0</td>\n",
       "      <td>1</td>\n",
       "    </tr>\n",
       "    <tr>\n",
       "      <th>1</th>\n",
       "      <td>120000</td>\n",
       "      <td>2</td>\n",
       "      <td>2</td>\n",
       "      <td>2</td>\n",
       "      <td>26</td>\n",
       "      <td>-1</td>\n",
       "      <td>2</td>\n",
       "      <td>0</td>\n",
       "      <td>0</td>\n",
       "      <td>0</td>\n",
       "      <td>...</td>\n",
       "      <td>3272</td>\n",
       "      <td>3455</td>\n",
       "      <td>3261</td>\n",
       "      <td>0</td>\n",
       "      <td>1000</td>\n",
       "      <td>1000</td>\n",
       "      <td>1000</td>\n",
       "      <td>0</td>\n",
       "      <td>2000</td>\n",
       "      <td>1</td>\n",
       "    </tr>\n",
       "    <tr>\n",
       "      <th>2</th>\n",
       "      <td>90000</td>\n",
       "      <td>2</td>\n",
       "      <td>2</td>\n",
       "      <td>2</td>\n",
       "      <td>34</td>\n",
       "      <td>0</td>\n",
       "      <td>0</td>\n",
       "      <td>0</td>\n",
       "      <td>0</td>\n",
       "      <td>0</td>\n",
       "      <td>...</td>\n",
       "      <td>14331</td>\n",
       "      <td>14948</td>\n",
       "      <td>15549</td>\n",
       "      <td>1518</td>\n",
       "      <td>1500</td>\n",
       "      <td>1000</td>\n",
       "      <td>1000</td>\n",
       "      <td>1000</td>\n",
       "      <td>5000</td>\n",
       "      <td>0</td>\n",
       "    </tr>\n",
       "    <tr>\n",
       "      <th>3</th>\n",
       "      <td>50000</td>\n",
       "      <td>2</td>\n",
       "      <td>2</td>\n",
       "      <td>1</td>\n",
       "      <td>37</td>\n",
       "      <td>0</td>\n",
       "      <td>0</td>\n",
       "      <td>0</td>\n",
       "      <td>0</td>\n",
       "      <td>0</td>\n",
       "      <td>...</td>\n",
       "      <td>28314</td>\n",
       "      <td>28959</td>\n",
       "      <td>29547</td>\n",
       "      <td>2000</td>\n",
       "      <td>2019</td>\n",
       "      <td>1200</td>\n",
       "      <td>1100</td>\n",
       "      <td>1069</td>\n",
       "      <td>1000</td>\n",
       "      <td>0</td>\n",
       "    </tr>\n",
       "    <tr>\n",
       "      <th>4</th>\n",
       "      <td>50000</td>\n",
       "      <td>1</td>\n",
       "      <td>2</td>\n",
       "      <td>1</td>\n",
       "      <td>57</td>\n",
       "      <td>-1</td>\n",
       "      <td>0</td>\n",
       "      <td>-1</td>\n",
       "      <td>0</td>\n",
       "      <td>0</td>\n",
       "      <td>...</td>\n",
       "      <td>20940</td>\n",
       "      <td>19146</td>\n",
       "      <td>19131</td>\n",
       "      <td>2000</td>\n",
       "      <td>36681</td>\n",
       "      <td>10000</td>\n",
       "      <td>9000</td>\n",
       "      <td>689</td>\n",
       "      <td>679</td>\n",
       "      <td>0</td>\n",
       "    </tr>\n",
       "  </tbody>\n",
       "</table>\n",
       "<p>5 rows × 24 columns</p>\n",
       "</div>"
      ],
      "text/plain": [
       "   LIMIT_BAL  SEX  EDUCATION  MARRIAGE  AGE  PAY_0  PAY_2  PAY_3  PAY_4  \\\n",
       "0      20000    2          2         1   24      2      2     -1     -1   \n",
       "1     120000    2          2         2   26     -1      2      0      0   \n",
       "2      90000    2          2         2   34      0      0      0      0   \n",
       "3      50000    2          2         1   37      0      0      0      0   \n",
       "4      50000    1          2         1   57     -1      0     -1      0   \n",
       "\n",
       "   PAY_5  ...  BILL_AMT4  BILL_AMT5  BILL_AMT6  PAY_AMT1  PAY_AMT2  PAY_AMT3  \\\n",
       "0     -2  ...          0          0          0         0       689         0   \n",
       "1      0  ...       3272       3455       3261         0      1000      1000   \n",
       "2      0  ...      14331      14948      15549      1518      1500      1000   \n",
       "3      0  ...      28314      28959      29547      2000      2019      1200   \n",
       "4      0  ...      20940      19146      19131      2000     36681     10000   \n",
       "\n",
       "   PAY_AMT4  PAY_AMT5  PAY_AMT6  Y  \n",
       "0         0         0         0  1  \n",
       "1      1000         0      2000  1  \n",
       "2      1000      1000      5000  0  \n",
       "3      1100      1069      1000  0  \n",
       "4      9000       689       679  0  \n",
       "\n",
       "[5 rows x 24 columns]"
      ]
     },
     "execution_count": 4,
     "metadata": {},
     "output_type": "execute_result"
    }
   ],
   "source": [
    "# первые строки\n",
    "DF_raw.head()"
   ]
  },
  {
   "cell_type": "markdown",
   "id": "89c81ced",
   "metadata": {},
   "source": [
    "Все столбцы количественные.  "
   ]
  },
  {
   "cell_type": "code",
   "execution_count": 5,
   "id": "af1a01f3",
   "metadata": {},
   "outputs": [
    {
     "data": {
      "text/plain": [
       "LIMIT_BAL    int64\n",
       "SEX          int64\n",
       "EDUCATION    int64\n",
       "MARRIAGE     int64\n",
       "AGE          int64\n",
       "PAY_0        int64\n",
       "PAY_2        int64\n",
       "PAY_3        int64\n",
       "PAY_4        int64\n",
       "PAY_5        int64\n",
       "PAY_6        int64\n",
       "BILL_AMT1    int64\n",
       "BILL_AMT2    int64\n",
       "BILL_AMT3    int64\n",
       "BILL_AMT4    int64\n",
       "BILL_AMT5    int64\n",
       "BILL_AMT6    int64\n",
       "PAY_AMT1     int64\n",
       "PAY_AMT2     int64\n",
       "PAY_AMT3     int64\n",
       "PAY_AMT4     int64\n",
       "PAY_AMT5     int64\n",
       "PAY_AMT6     int64\n",
       "Y            int64\n",
       "dtype: object"
      ]
     },
     "execution_count": 5,
     "metadata": {},
     "output_type": "execute_result"
    }
   ],
   "source": [
    "# типы столбцов \n",
    "DF_raw.dtypes"
   ]
  },
  {
   "cell_type": "markdown",
   "id": "71c8dd11",
   "metadata": {},
   "source": [
    "Отложим 10% наблюдений для прогноза."
   ]
  },
  {
   "cell_type": "code",
   "execution_count": 6,
   "id": "7e26348c",
   "metadata": {},
   "outputs": [],
   "source": [
    "# наблюдения для моделирования \n",
    "DF = DF_raw.sample(frac=0.9, random_state=my_seed) \n",
    "# отложенные наблюдения \n",
    "DF_predict = DF_raw.drop(DF.index) "
   ]
  },
  {
   "cell_type": "markdown",
   "id": "1635163a",
   "metadata": {},
   "source": [
    "# Преобразование исходных данных и построение моделей  \n",
    "\n",
    "Все переменные количественные, и как видно из отчёта ниже, их значения неотрицательные, а разброс различается.   "
   ]
  },
  {
   "cell_type": "code",
   "execution_count": 7,
   "id": "78108987",
   "metadata": {},
   "outputs": [
    {
     "data": {
      "text/html": [
       "<div>\n",
       "<style scoped>\n",
       "    .dataframe tbody tr th:only-of-type {\n",
       "        vertical-align: middle;\n",
       "    }\n",
       "\n",
       "    .dataframe tbody tr th {\n",
       "        vertical-align: top;\n",
       "    }\n",
       "\n",
       "    .dataframe thead th {\n",
       "        text-align: right;\n",
       "    }\n",
       "</style>\n",
       "<table border=\"1\" class=\"dataframe\">\n",
       "  <thead>\n",
       "    <tr style=\"text-align: right;\">\n",
       "      <th></th>\n",
       "      <th>LIMIT_BAL</th>\n",
       "      <th>SEX</th>\n",
       "      <th>EDUCATION</th>\n",
       "      <th>MARRIAGE</th>\n",
       "      <th>AGE</th>\n",
       "      <th>PAY_0</th>\n",
       "      <th>PAY_2</th>\n",
       "      <th>PAY_3</th>\n",
       "      <th>PAY_4</th>\n",
       "      <th>PAY_5</th>\n",
       "      <th>...</th>\n",
       "      <th>BILL_AMT4</th>\n",
       "      <th>BILL_AMT5</th>\n",
       "      <th>BILL_AMT6</th>\n",
       "      <th>PAY_AMT1</th>\n",
       "      <th>PAY_AMT2</th>\n",
       "      <th>PAY_AMT3</th>\n",
       "      <th>PAY_AMT4</th>\n",
       "      <th>PAY_AMT5</th>\n",
       "      <th>PAY_AMT6</th>\n",
       "      <th>Y</th>\n",
       "    </tr>\n",
       "  </thead>\n",
       "  <tbody>\n",
       "    <tr>\n",
       "      <th>count</th>\n",
       "      <td>27000.000000</td>\n",
       "      <td>27000.000000</td>\n",
       "      <td>27000.000000</td>\n",
       "      <td>27000.000000</td>\n",
       "      <td>27000.000000</td>\n",
       "      <td>27000.000000</td>\n",
       "      <td>27000.000000</td>\n",
       "      <td>27000.000000</td>\n",
       "      <td>27000.000000</td>\n",
       "      <td>27000.000000</td>\n",
       "      <td>...</td>\n",
       "      <td>27000.000000</td>\n",
       "      <td>27000.000000</td>\n",
       "      <td>27000.000000</td>\n",
       "      <td>27000.000000</td>\n",
       "      <td>2.700000e+04</td>\n",
       "      <td>27000.000000</td>\n",
       "      <td>27000.000000</td>\n",
       "      <td>27000.000000</td>\n",
       "      <td>27000.000000</td>\n",
       "      <td>27000.000000</td>\n",
       "    </tr>\n",
       "    <tr>\n",
       "      <th>mean</th>\n",
       "      <td>167725.543704</td>\n",
       "      <td>1.603963</td>\n",
       "      <td>1.853741</td>\n",
       "      <td>1.550926</td>\n",
       "      <td>35.474556</td>\n",
       "      <td>-0.018000</td>\n",
       "      <td>-0.135185</td>\n",
       "      <td>-0.167296</td>\n",
       "      <td>-0.223778</td>\n",
       "      <td>-0.269963</td>\n",
       "      <td>...</td>\n",
       "      <td>43080.955222</td>\n",
       "      <td>40127.070519</td>\n",
       "      <td>38698.920593</td>\n",
       "      <td>5683.113296</td>\n",
       "      <td>5.870060e+03</td>\n",
       "      <td>5210.406111</td>\n",
       "      <td>4846.425593</td>\n",
       "      <td>4825.904481</td>\n",
       "      <td>5231.434222</td>\n",
       "      <td>0.219556</td>\n",
       "    </tr>\n",
       "    <tr>\n",
       "      <th>std</th>\n",
       "      <td>129987.024498</td>\n",
       "      <td>0.489081</td>\n",
       "      <td>0.790828</td>\n",
       "      <td>0.522113</td>\n",
       "      <td>9.215236</td>\n",
       "      <td>1.125768</td>\n",
       "      <td>1.198147</td>\n",
       "      <td>1.197849</td>\n",
       "      <td>1.170744</td>\n",
       "      <td>1.135529</td>\n",
       "      <td>...</td>\n",
       "      <td>64075.202730</td>\n",
       "      <td>60559.110748</td>\n",
       "      <td>59274.581650</td>\n",
       "      <td>16555.560844</td>\n",
       "      <td>2.219613e+04</td>\n",
       "      <td>17518.374265</td>\n",
       "      <td>15846.384168</td>\n",
       "      <td>15359.625271</td>\n",
       "      <td>17838.849871</td>\n",
       "      <td>0.413953</td>\n",
       "    </tr>\n",
       "    <tr>\n",
       "      <th>min</th>\n",
       "      <td>10000.000000</td>\n",
       "      <td>1.000000</td>\n",
       "      <td>0.000000</td>\n",
       "      <td>0.000000</td>\n",
       "      <td>21.000000</td>\n",
       "      <td>-2.000000</td>\n",
       "      <td>-2.000000</td>\n",
       "      <td>-2.000000</td>\n",
       "      <td>-2.000000</td>\n",
       "      <td>-2.000000</td>\n",
       "      <td>...</td>\n",
       "      <td>-170000.000000</td>\n",
       "      <td>-81334.000000</td>\n",
       "      <td>-339603.000000</td>\n",
       "      <td>0.000000</td>\n",
       "      <td>0.000000e+00</td>\n",
       "      <td>0.000000</td>\n",
       "      <td>0.000000</td>\n",
       "      <td>0.000000</td>\n",
       "      <td>0.000000</td>\n",
       "      <td>0.000000</td>\n",
       "    </tr>\n",
       "    <tr>\n",
       "      <th>25%</th>\n",
       "      <td>50000.000000</td>\n",
       "      <td>1.000000</td>\n",
       "      <td>1.000000</td>\n",
       "      <td>1.000000</td>\n",
       "      <td>28.000000</td>\n",
       "      <td>-1.000000</td>\n",
       "      <td>-1.000000</td>\n",
       "      <td>-1.000000</td>\n",
       "      <td>-1.000000</td>\n",
       "      <td>-1.000000</td>\n",
       "      <td>...</td>\n",
       "      <td>2294.000000</td>\n",
       "      <td>1737.250000</td>\n",
       "      <td>1237.250000</td>\n",
       "      <td>1000.000000</td>\n",
       "      <td>8.360000e+02</td>\n",
       "      <td>390.000000</td>\n",
       "      <td>300.000000</td>\n",
       "      <td>237.750000</td>\n",
       "      <td>115.000000</td>\n",
       "      <td>0.000000</td>\n",
       "    </tr>\n",
       "    <tr>\n",
       "      <th>50%</th>\n",
       "      <td>140000.000000</td>\n",
       "      <td>2.000000</td>\n",
       "      <td>2.000000</td>\n",
       "      <td>2.000000</td>\n",
       "      <td>34.000000</td>\n",
       "      <td>0.000000</td>\n",
       "      <td>0.000000</td>\n",
       "      <td>0.000000</td>\n",
       "      <td>0.000000</td>\n",
       "      <td>0.000000</td>\n",
       "      <td>...</td>\n",
       "      <td>19000.000000</td>\n",
       "      <td>18065.500000</td>\n",
       "      <td>16979.000000</td>\n",
       "      <td>2110.000000</td>\n",
       "      <td>2.007000e+03</td>\n",
       "      <td>1816.500000</td>\n",
       "      <td>1500.000000</td>\n",
       "      <td>1500.000000</td>\n",
       "      <td>1500.000000</td>\n",
       "      <td>0.000000</td>\n",
       "    </tr>\n",
       "    <tr>\n",
       "      <th>75%</th>\n",
       "      <td>240000.000000</td>\n",
       "      <td>2.000000</td>\n",
       "      <td>2.000000</td>\n",
       "      <td>2.000000</td>\n",
       "      <td>41.000000</td>\n",
       "      <td>0.000000</td>\n",
       "      <td>0.000000</td>\n",
       "      <td>0.000000</td>\n",
       "      <td>0.000000</td>\n",
       "      <td>0.000000</td>\n",
       "      <td>...</td>\n",
       "      <td>54562.500000</td>\n",
       "      <td>50080.750000</td>\n",
       "      <td>49107.000000</td>\n",
       "      <td>5009.250000</td>\n",
       "      <td>5.000000e+03</td>\n",
       "      <td>4512.000000</td>\n",
       "      <td>4027.000000</td>\n",
       "      <td>4040.250000</td>\n",
       "      <td>4000.000000</td>\n",
       "      <td>0.000000</td>\n",
       "    </tr>\n",
       "    <tr>\n",
       "      <th>max</th>\n",
       "      <td>1000000.000000</td>\n",
       "      <td>2.000000</td>\n",
       "      <td>6.000000</td>\n",
       "      <td>3.000000</td>\n",
       "      <td>79.000000</td>\n",
       "      <td>8.000000</td>\n",
       "      <td>8.000000</td>\n",
       "      <td>8.000000</td>\n",
       "      <td>8.000000</td>\n",
       "      <td>8.000000</td>\n",
       "      <td>...</td>\n",
       "      <td>891586.000000</td>\n",
       "      <td>927171.000000</td>\n",
       "      <td>961664.000000</td>\n",
       "      <td>873552.000000</td>\n",
       "      <td>1.684259e+06</td>\n",
       "      <td>896040.000000</td>\n",
       "      <td>621000.000000</td>\n",
       "      <td>426529.000000</td>\n",
       "      <td>528666.000000</td>\n",
       "      <td>1.000000</td>\n",
       "    </tr>\n",
       "  </tbody>\n",
       "</table>\n",
       "<p>8 rows × 24 columns</p>\n",
       "</div>"
      ],
      "text/plain": [
       "            LIMIT_BAL           SEX     EDUCATION      MARRIAGE           AGE  \\\n",
       "count    27000.000000  27000.000000  27000.000000  27000.000000  27000.000000   \n",
       "mean    167725.543704      1.603963      1.853741      1.550926     35.474556   \n",
       "std     129987.024498      0.489081      0.790828      0.522113      9.215236   \n",
       "min      10000.000000      1.000000      0.000000      0.000000     21.000000   \n",
       "25%      50000.000000      1.000000      1.000000      1.000000     28.000000   \n",
       "50%     140000.000000      2.000000      2.000000      2.000000     34.000000   \n",
       "75%     240000.000000      2.000000      2.000000      2.000000     41.000000   \n",
       "max    1000000.000000      2.000000      6.000000      3.000000     79.000000   \n",
       "\n",
       "              PAY_0         PAY_2         PAY_3         PAY_4         PAY_5  \\\n",
       "count  27000.000000  27000.000000  27000.000000  27000.000000  27000.000000   \n",
       "mean      -0.018000     -0.135185     -0.167296     -0.223778     -0.269963   \n",
       "std        1.125768      1.198147      1.197849      1.170744      1.135529   \n",
       "min       -2.000000     -2.000000     -2.000000     -2.000000     -2.000000   \n",
       "25%       -1.000000     -1.000000     -1.000000     -1.000000     -1.000000   \n",
       "50%        0.000000      0.000000      0.000000      0.000000      0.000000   \n",
       "75%        0.000000      0.000000      0.000000      0.000000      0.000000   \n",
       "max        8.000000      8.000000      8.000000      8.000000      8.000000   \n",
       "\n",
       "       ...      BILL_AMT4      BILL_AMT5      BILL_AMT6       PAY_AMT1  \\\n",
       "count  ...   27000.000000   27000.000000   27000.000000   27000.000000   \n",
       "mean   ...   43080.955222   40127.070519   38698.920593    5683.113296   \n",
       "std    ...   64075.202730   60559.110748   59274.581650   16555.560844   \n",
       "min    ... -170000.000000  -81334.000000 -339603.000000       0.000000   \n",
       "25%    ...    2294.000000    1737.250000    1237.250000    1000.000000   \n",
       "50%    ...   19000.000000   18065.500000   16979.000000    2110.000000   \n",
       "75%    ...   54562.500000   50080.750000   49107.000000    5009.250000   \n",
       "max    ...  891586.000000  927171.000000  961664.000000  873552.000000   \n",
       "\n",
       "           PAY_AMT2       PAY_AMT3       PAY_AMT4       PAY_AMT5  \\\n",
       "count  2.700000e+04   27000.000000   27000.000000   27000.000000   \n",
       "mean   5.870060e+03    5210.406111    4846.425593    4825.904481   \n",
       "std    2.219613e+04   17518.374265   15846.384168   15359.625271   \n",
       "min    0.000000e+00       0.000000       0.000000       0.000000   \n",
       "25%    8.360000e+02     390.000000     300.000000     237.750000   \n",
       "50%    2.007000e+03    1816.500000    1500.000000    1500.000000   \n",
       "75%    5.000000e+03    4512.000000    4027.000000    4040.250000   \n",
       "max    1.684259e+06  896040.000000  621000.000000  426529.000000   \n",
       "\n",
       "            PAY_AMT6             Y  \n",
       "count   27000.000000  27000.000000  \n",
       "mean     5231.434222      0.219556  \n",
       "std     17838.849871      0.413953  \n",
       "min         0.000000      0.000000  \n",
       "25%       115.000000      0.000000  \n",
       "50%      1500.000000      0.000000  \n",
       "75%      4000.000000      0.000000  \n",
       "max    528666.000000      1.000000  \n",
       "\n",
       "[8 rows x 24 columns]"
      ]
     },
     "execution_count": 7,
     "metadata": {},
     "output_type": "execute_result"
    }
   ],
   "source": [
    " DF.describe()"
   ]
  },
  {
   "cell_type": "markdown",
   "id": "ba78dc0a",
   "metadata": {},
   "source": [
    "В качестве альтернативных моделей рассмотрим SVM с различными вариантами ядер и\n",
    "логистическую регрессию. Причём предварительно преобразуем пространство исходных показателей с помощью метода главных компонент.  \n",
    "\n",
    "## Стандартизация и переход к главным компонентам"
   ]
  },
  {
   "cell_type": "code",
   "execution_count": 8,
   "id": "eaa27da3",
   "metadata": {},
   "outputs": [
    {
     "name": "stdout",
     "output_type": "stream",
     "text": [
      "Доли объяснённой дисперсии по компонентам в PLS:\n",
      " [0.284 0.178 0.067 0.064 0.045 0.041 0.04  0.039 0.037 0.034 0.033 0.03\n",
      " 0.025 0.023 0.017 0.011 0.011 0.008 0.006 0.003 0.002 0.001 0.001] \n",
      "Общая сумма долей: 1.0\n"
     ]
    }
   ],
   "source": [
    "# стандартизация\n",
    "sc = StandardScaler() \n",
    "X_train_std = sc.fit_transform(DF.iloc[:, 0:23].values) \n",
    " \n",
    "# оцениваем объяснённую главными компонентами дисперсию \n",
    "pca = PCA() \n",
    "X_train_pca = pca.fit_transform(X_train_std) \n",
    " \n",
    "# считаем доли объяснённой дисперсии \n",
    "frac_var_expl = pca.explained_variance_ratio_ \n",
    "print('Доли объяснённой дисперсии по компонентам в PLS:\\n', \n",
    "     np.around(frac_var_expl, 3), \n",
    "     '\\nОбщая сумма долей:', np.around(sum(frac_var_expl), 3))"
   ]
  },
  {
   "cell_type": "markdown",
   "id": "d4a540a2",
   "metadata": {},
   "source": [
    "Таким образом, первые две главные компоненты объясняют 46.2% разброса 23 объясняющих переменных. \n",
    "Теперь объединим функции-преобразователи и оценщики в конвейер с помощью Pipeline [https://scikit-learn.ru/6-1-pipelines-and-composite-estimators/] и оценим точность логистической регрессии с помощью перекрёстной проверки. конвейеры позволяет последовательно применять описанные преобразования. \n",
    "\n",
    "## Модель логистической регрессии с перекрёстной проверкой"
   ]
  },
  {
   "cell_type": "code",
   "execution_count": 9,
   "id": "42a96cd9",
   "metadata": {},
   "outputs": [
    {
     "name": "stdout",
     "output_type": "stream",
     "text": [
      "Acc с перекрёстной проверкой \n",
      "для модели sc_pca_logit : 0.798\n"
     ]
    }
   ],
   "source": [
    "# данные для обучения моделей\n",
    "X_train = DF.iloc[:, 0:23] \n",
    "y_train = DF.iloc[:, -1] \n",
    " \n",
    "# объединяем в конвейер шкалирование, ГК с 2 компонентами и логит \n",
    "pipe_lr = make_pipeline(StandardScaler(), PCA(n_components=2), \n",
    "                        LogisticRegression(random_state=my_seed, solver='lbfgs'))\n",
    " \n",
    "# будем сохранять точность моделей в один массив: \n",
    "score = []\n",
    "score_models = list() \n",
    " \n",
    "# считаем точность с перекрёстной проверкой, показатель Acc \n",
    "cv = cross_val_score(estimator=pipe_lr, X=X_train, y=y_train, cv=5, \n",
    "                     scoring='accuracy') \n",
    " \n",
    "# записываем точность\n",
    "score.append(np.around(np.mean(cv), 3)) \n",
    "score_models.append('sc_pca_logit') \n",
    " \n",
    "print('Acc с перекрёстной проверкой', \n",
    "      '\\nдля модели', score_models[0], ':', score[0])"
   ]
  },
  {
   "cell_type": "markdown",
   "id": "b618a25b",
   "metadata": {},
   "source": [
    "##  SVM с перекрёстной проверкой\n",
    "\n",
    "Построим несколько вариантов модели SVM с различными ядерными функциями."
   ]
  },
  {
   "cell_type": "code",
   "execution_count": 10,
   "id": "bca66ff4",
   "metadata": {},
   "outputs": [
    {
     "name": "stdout",
     "output_type": "stream",
     "text": [
      "Сеточный поиск занял 2040.93 секунд\n"
     ]
    }
   ],
   "source": [
    "pipe_svc = make_pipeline(StandardScaler(), \n",
    "                         SVC(random_state = my_seed))\n",
    "\n",
    "# настроим параметры SVM с помощью сеточного поиска\n",
    "param_range = [0.0001, 0.001, 0.01, 0.1] \n",
    "param_grid = [{'svc__C': param_range,\n",
    "               'svc__kernel': ['linear']},\n",
    "              {'svc__C': param_range,\n",
    "               'svc__gamma': param_range,\n",
    "               'svc__kernel': ['rbf']},\n",
    "              {'svc__C': param_range,\n",
    "               'svc__gamma': param_range,\n",
    "               'svc__degree' : [2, 3],\n",
    "               'svc__kernel': ['poly']}]\n",
    "\n",
    "# разбиения для перекрёстной проверки\n",
    "kfold = KFold(n_splits = 5, random_state = my_seed, shuffle = True)\n",
    "gs = GridSearchCV(estimator = pipe_svc, param_grid = param_grid, \n",
    "                  scoring = 'accuracy', refit = True, cv = kfold, \n",
    "                  n_jobs = -1)\n",
    "\n",
    "# таймер\n",
    "tic = time.perf_counter()\n",
    "\n",
    "# запускаем сеточный поиск\n",
    "gs = gs.fit(X_train, y_train)\n",
    "\n",
    "# таймер\n",
    "toc = time.perf_counter()\n",
    "print(f\"Сеточный поиск занял {toc - tic:0.2f} секунд\", sep='')\n"
   ]
  },
  {
   "cell_type": "code",
   "execution_count": 11,
   "id": "46535798",
   "metadata": {},
   "outputs": [
    {
     "data": {
      "text/plain": [
       "0.816"
      ]
     },
     "execution_count": 11,
     "metadata": {},
     "output_type": "execute_result"
    }
   ],
   "source": [
    "# точность лучшей модели \n",
    "np.around(gs.best_score_, 3)"
   ]
  },
  {
   "cell_type": "code",
   "execution_count": 12,
   "id": "ec13491a",
   "metadata": {},
   "outputs": [
    {
     "data": {
      "text/plain": [
       "'rbf'"
      ]
     },
     "execution_count": 12,
     "metadata": {},
     "output_type": "execute_result"
    }
   ],
   "source": [
    "# параметры лучшей модели \n",
    "#  * ядерная функция \n",
    "gs.best_estimator_.get_params()['svc__kernel']"
   ]
  },
  {
   "cell_type": "code",
   "execution_count": 13,
   "id": "80a4a2b9",
   "metadata": {},
   "outputs": [
    {
     "data": {
      "text/plain": [
       "0.1"
      ]
     },
     "execution_count": 13,
     "metadata": {},
     "output_type": "execute_result"
    }
   ],
   "source": [
    "# * параметр регуляризации \n",
    "gs.best_estimator_.get_params()['svc__C']"
   ]
  },
  {
   "cell_type": "code",
   "execution_count": 14,
   "id": "6446ab05",
   "metadata": {},
   "outputs": [
    {
     "data": {
      "text/plain": [
       "0.1"
      ]
     },
     "execution_count": 14,
     "metadata": {},
     "output_type": "execute_result"
    }
   ],
   "source": [
    "# * коэффициент ядерной функции (для ядер 'rbf', 'poly' и 'sigmoid') \n",
    "gs.best_estimator_.get_params()['svc__gamma'] "
   ]
  },
  {
   "cell_type": "code",
   "execution_count": 15,
   "id": "949adb73",
   "metadata": {},
   "outputs": [
    {
     "data": {
      "text/plain": [
       "3"
      ]
     },
     "execution_count": 15,
     "metadata": {},
     "output_type": "execute_result"
    }
   ],
   "source": [
    "# * степень полинома (для ядра 'poly') \n",
    "gs.best_estimator_.get_params()['svc__degree']"
   ]
  },
  {
   "cell_type": "markdown",
   "id": "c1690c92",
   "metadata": {},
   "source": [
    "---\n",
    "\n",
    "📚 **Пример визуализации небольшого дерева**\n",
    "\n",
    "Лучшее дерево с обрезкой по-прежнему слишком велико для визуализации. Для примера нарисуем одно из небольших деревьев с обрезкой и выведем его же в виде текста.  \n",
    "Посмотреть результаты сеточного поиска можно в объектах:\n",
    "* `gs.cv_results_['params']` – список сочетаний параметров;\n",
    "* `gs.cv_results_['mean_test_score']` – значения для сочетаний параметров\n",
    "(средние по блокам перекрёстной проверки).\n",
    "---"
   ]
  },
  {
   "cell_type": "code",
   "execution_count": 16,
   "id": "ce779eec",
   "metadata": {},
   "outputs": [
    {
     "name": "stdout",
     "output_type": "stream",
     "text": [
      "Acc с перекрёстной проверкой \n",
      "для модели sc_pca_svc : 0.816\n"
     ]
    }
   ],
   "source": [
    "# записываем точность\n",
    "score.append(np.around(gs.best_score_, 3)) \n",
    "score_models.append('sc_pca_svc') \n",
    " \n",
    "print('Acc с перекрёстной проверкой', \n",
    "      '\\nдля модели', score_models[1], ':', score[1]) "
   ]
  },
  {
   "cell_type": "markdown",
   "id": "f8992461",
   "metadata": {},
   "source": [
    "# Прогноз на отложенные наблюдения по лучшей модели\n",
    "\n",
    "В данном случае модель SVM показывает большую точность, чем модель логистической регрессии."
   ]
  },
  {
   "cell_type": "code",
   "execution_count": 17,
   "id": "14078cd3",
   "metadata": {},
   "outputs": [
    {
     "data": {
      "text/html": [
       "<div>\n",
       "<style scoped>\n",
       "    .dataframe tbody tr th:only-of-type {\n",
       "        vertical-align: middle;\n",
       "    }\n",
       "\n",
       "    .dataframe tbody tr th {\n",
       "        vertical-align: top;\n",
       "    }\n",
       "\n",
       "    .dataframe thead th {\n",
       "        text-align: right;\n",
       "    }\n",
       "</style>\n",
       "<table border=\"1\" class=\"dataframe\">\n",
       "  <thead>\n",
       "    <tr style=\"text-align: right;\">\n",
       "      <th></th>\n",
       "      <th>Модель</th>\n",
       "      <th>Acc</th>\n",
       "    </tr>\n",
       "  </thead>\n",
       "  <tbody>\n",
       "    <tr>\n",
       "      <th>0</th>\n",
       "      <td>sc_pca_logit</td>\n",
       "      <td>0.798</td>\n",
       "    </tr>\n",
       "    <tr>\n",
       "      <th>1</th>\n",
       "      <td>sc_pca_svc</td>\n",
       "      <td>0.816</td>\n",
       "    </tr>\n",
       "  </tbody>\n",
       "</table>\n",
       "</div>"
      ],
      "text/plain": [
       "         Модель    Acc\n",
       "0  sc_pca_logit  0.798\n",
       "1    sc_pca_svc  0.816"
      ]
     },
     "execution_count": 17,
     "metadata": {},
     "output_type": "execute_result"
    }
   ],
   "source": [
    "# сводка по точности моделей \n",
    "pd.DataFrame({'Модель' : score_models, 'Acc' : score})"
   ]
  },
  {
   "cell_type": "markdown",
   "id": "e7d21a27",
   "metadata": {},
   "source": [
    "Сделаем прогноз на отложенные наблюдения с помощью второго ансамбля.   "
   ]
  },
  {
   "cell_type": "code",
   "execution_count": 28,
   "id": "eae7ad7e",
   "metadata": {},
   "outputs": [
    {
     "name": "stdout",
     "output_type": "stream",
     "text": [
      "              precision    recall  f1-score   support\n",
      "\n",
      "           0       0.82      0.96      0.88      2292\n",
      "           1       0.71      0.30      0.42       708\n",
      "\n",
      "    accuracy                           0.81      3000\n",
      "   macro avg       0.76      0.63      0.65      3000\n",
      "weighted avg       0.79      0.81      0.77      3000\n",
      "\n"
     ]
    }
   ],
   "source": [
    "# прогноз с помощью лучшей модели ансамбля с SVC \n",
    "y_hat = gs.best_estimator_.predict(X=DF_predict.iloc[:, 0:23]) \n",
    " \n",
    "# точность \n",
    "# характеристики точности \n",
    "print(classification_report(DF_predict.iloc[:, 23:], y_hat)) "
   ]
  },
  {
   "cell_type": "code",
   "execution_count": null,
   "id": "0b74e7a4",
   "metadata": {},
   "outputs": [],
   "source": []
  },
  {
   "cell_type": "code",
   "execution_count": null,
   "id": "46779f1e",
   "metadata": {},
   "outputs": [],
   "source": []
  }
 ],
 "metadata": {
  "kernelspec": {
   "display_name": "Python 3 (ipykernel)",
   "language": "python",
   "name": "python3"
  },
  "language_info": {
   "codemirror_mode": {
    "name": "ipython",
    "version": 3
   },
   "file_extension": ".py",
   "mimetype": "text/x-python",
   "name": "python",
   "nbconvert_exporter": "python",
   "pygments_lexer": "ipython3",
   "version": "3.10.4"
  }
 },
 "nbformat": 4,
 "nbformat_minor": 5
}
